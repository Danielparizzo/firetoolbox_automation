{
 "cells": [
  {
   "cell_type": "code",
   "execution_count": null,
   "id": "46aeac49",
   "metadata": {},
   "outputs": [],
   "source": [
    "import pyautogui\n",
    "import time"
   ]
  },
  {
   "cell_type": "code",
   "execution_count": null,
   "id": "28f9f9f7",
   "metadata": {},
   "outputs": [],
   "source": [
    "\n"
   ]
  },
  {
   "cell_type": "code",
   "execution_count": null,
   "id": "bcb32faf",
   "metadata": {
    "scrolled": true
   },
   "outputs": [],
   "source": [
    "### ADB Shell\n",
    "adbshell = None\n",
    "while adbshell is None:\n",
    "      adbshell = pyautogui.locateOnScreen('1adbshell.png', grayscale = True)    \n",
    "\n",
    "time.sleep(1)\n",
    "pyautogui.click(adbshell), pyautogui.write('settings put system screen_off_timeout 600000'), pyautogui.press('enter')\n",
    "\n",
    "adbshellexit = None\n",
    "while adbshellexit is None:\n",
    "      adbshellexit = pyautogui.locateOnScreen('1adbshellexitx.png', grayscale = True)  \n",
    "pyautogui.click(adbshellexit)\n",
    "\n",
    "### Install Nova Launcher\n",
    "launcher = None\n",
    "while launcher is None:\n",
    "      launcher = pyautogui.locateOnScreen('buttonlauncher.png', grayscale = True)    \n",
    "pyautogui.click(launcher)\n",
    "\n",
    "dropdown = None\n",
    "while dropdown is None:\n",
    "      dropdown = pyautogui.locateOnScreen('buttondropdown.png', grayscale = True)    \n",
    "pyautogui.click(dropdown)\n",
    "\n",
    "nova = None\n",
    "while nova is None:\n",
    "      nova = pyautogui.locateOnScreen('buttonnova.png', grayscale = True)    \n",
    "pyautogui.click(nova)\n",
    "\n",
    "widgets = None\n",
    "while widgets is None:\n",
    "      widgets = pyautogui.locateOnScreen('widgets.png', grayscale = True)    \n",
    "pyautogui.click(widgets)\n",
    "\n",
    "launcherinstall = None\n",
    "while launcherinstall is None:\n",
    "      launcherinstall = pyautogui.locateOnScreen('launcherinstall.png', grayscale = True)    \n",
    "pyautogui.click(launcherinstall)\n",
    "\n",
    "buttonoklauncher = None\n",
    "while buttonoklauncher is None:\n",
    "      buttonoklauncher = pyautogui.locateOnScreen('buttonoklauncher.png', grayscale = True)\n",
    "pyautogui.click(buttonoklauncher), pyautogui.press('enter')\n"
   ]
  },
  {
   "cell_type": "code",
   "execution_count": 1,
   "id": "032c64a5",
   "metadata": {},
   "outputs": [
    {
     "ename": "NameError",
     "evalue": "name 'pyautogui' is not defined",
     "output_type": "error",
     "traceback": [
      "\u001b[1;31m---------------------------------------------------------------------------\u001b[0m",
      "\u001b[1;31mNameError\u001b[0m                                 Traceback (most recent call last)",
      "\u001b[1;32m<ipython-input-1-04b52203b1ee>\u001b[0m in \u001b[0;36m<module>\u001b[1;34m\u001b[0m\n\u001b[0;32m      2\u001b[0m \u001b[0mlockscreen\u001b[0m \u001b[1;33m=\u001b[0m \u001b[1;32mNone\u001b[0m\u001b[1;33m\u001b[0m\u001b[1;33m\u001b[0m\u001b[0m\n\u001b[0;32m      3\u001b[0m \u001b[1;32mwhile\u001b[0m \u001b[0mlockscreen\u001b[0m \u001b[1;32mis\u001b[0m \u001b[1;32mNone\u001b[0m\u001b[1;33m:\u001b[0m\u001b[1;33m\u001b[0m\u001b[1;33m\u001b[0m\u001b[0m\n\u001b[1;32m----> 4\u001b[1;33m       \u001b[0mlockscreen\u001b[0m \u001b[1;33m=\u001b[0m \u001b[0mpyautogui\u001b[0m\u001b[1;33m.\u001b[0m\u001b[0mlocateOnScreen\u001b[0m\u001b[1;33m(\u001b[0m\u001b[1;34m'lockscreen.png'\u001b[0m\u001b[1;33m,\u001b[0m \u001b[0mgrayscale\u001b[0m \u001b[1;33m=\u001b[0m \u001b[1;32mTrue\u001b[0m\u001b[1;33m)\u001b[0m\u001b[1;33m\u001b[0m\u001b[1;33m\u001b[0m\u001b[0m\n\u001b[0m\u001b[0;32m      5\u001b[0m \u001b[0mpyautogui\u001b[0m\u001b[1;33m.\u001b[0m\u001b[0mclick\u001b[0m\u001b[1;33m(\u001b[0m\u001b[1;34m'lockscreen.png'\u001b[0m\u001b[1;33m)\u001b[0m\u001b[1;33m\u001b[0m\u001b[1;33m\u001b[0m\u001b[0m\n\u001b[0;32m      6\u001b[0m \u001b[1;33m\u001b[0m\u001b[0m\n",
      "\u001b[1;31mNameError\u001b[0m: name 'pyautogui' is not defined"
     ]
    }
   ],
   "source": [
    "### Lockscreen Management\n",
    "lockscreen = None\n",
    "while lockscreen is None:\n",
    "      lockscreen = pyautogui.locateOnScreen('lockscreen.png', grayscale = True)    \n",
    "pyautogui.click('lockscreen.png')\n",
    "\n",
    "removeads = None\n",
    "while removeads is None:\n",
    "      removeads = pyautogui.locateOnScreen('removeads.png', grayscale = True)\n",
    "pyautogui.click(removeads)"
   ]
  },
  {
   "cell_type": "code",
   "execution_count": 3,
   "id": "4e273cad",
   "metadata": {},
   "outputs": [],
   "source": [
    "loc = pyautogui.locateOnScreen('removeads.png', grayscale=True)\n",
    "pyautogui.click(loc)\n"
   ]
  },
  {
   "cell_type": "code",
   "execution_count": null,
   "id": "555d3ee7",
   "metadata": {},
   "outputs": [],
   "source": []
  },
  {
   "cell_type": "code",
   "execution_count": null,
   "id": "a9d99f73",
   "metadata": {},
   "outputs": [],
   "source": []
  }
 ],
 "metadata": {
  "kernelspec": {
   "display_name": "Python 3",
   "language": "python",
   "name": "python3"
  },
  "language_info": {
   "codemirror_mode": {
    "name": "ipython",
    "version": 3
   },
   "file_extension": ".py",
   "mimetype": "text/x-python",
   "name": "python",
   "nbconvert_exporter": "python",
   "pygments_lexer": "ipython3",
   "version": "3.8.8"
  }
 },
 "nbformat": 4,
 "nbformat_minor": 5
}
